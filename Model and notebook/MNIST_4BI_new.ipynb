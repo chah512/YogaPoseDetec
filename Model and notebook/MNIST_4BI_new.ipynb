{
 "cells": [
  {
   "cell_type": "code",
   "execution_count": 2,
   "id": "f5818ca7",
   "metadata": {
    "executionInfo": {
     "elapsed": 466,
     "status": "ok",
     "timestamp": 1645088119304,
     "user": {
      "displayName": "Mohamed Hedi RIAHI",
      "photoUrl": "https://lh3.googleusercontent.com/a-/AOh14Ghj_MYP3RjnD9fFMH3mjFJ7I4P6WTVq1LTNJ3z3WnPbsboqaLYvId_qafvtxtmPaHAyPQ8cdV0ND_8GAmDgfkWI-NeGLVa4N74Y9jcZlfo2eXIvYMDLSWT00sNMwB89V4m6kVxL8scqy6TC33euqCVwipLPFwFoqcgIEOlymqfY6v61w68XwXONyqPi2xnClZTMGAbOBv2cdpuZ5WnBr1YOyo91NmHUZ3SEvXH-tgPW1LmuEBeqA0CsYarGgJzCIEG7snZp5yW3rUwp5soRV1u5WGIl0LSb3muklfKKTNKgWQiK35HtDOImmCuAW33eSplp3FVQGiEPD94AGs77d-M2UVE-E3ZNoPaVGufUEmdzO_FmdJd7S256hzLXFS6CfUARXy6rV4MaSIW8_KzcSy6KoIf-zctoCaXwHA7_xSVv6dF6vAfNo5IwwW8wVPcPyqgZC6L_A8KfKuhsD7WDuEv6GQ5hjGWAaUT4sbYQ5PWsF0gqnrql5kte1RV56Hmr5w0lIHRXXbXGkEwu7SI7njhGDVFI7So6DBVmRCnyXk50Wj8J7hmgPRt5d2_-0SnT7HedhPJXR_CK_w2ulyR7YkCDBS9-uumS5ZsUbVBb1YNkoULGdj6RIe78u-fSw7bSfAwaAgEiJSq3Y_erlv2zDo0-1w1F35YqfCswdEFk9HFHdcS3pBZj9P1Rae9XCELJytV6coYjk-eHZx50-99iS69m4LDaCrs_3u6Qcz5Fh_8fTcCGmSyoyZWxQlTJL2pl1-8F5g=s64",
      "userId": "14592477723528841934"
     },
     "user_tz": -60
    },
    "id": "c0zx2EUMraI6"
   },
   "outputs": [],
   "source": [
    "# importer tensorflow\n",
    "\n",
    "# Importer la base de donnee MNIST\n"
   ]
  },
  {
   "cell_type": "code",
   "execution_count": 1,
   "id": "bac9afde",
   "metadata": {
    "colab": {
     "base_uri": "https://localhost:8080/"
    },
    "executionInfo": {
     "elapsed": 830,
     "status": "ok",
     "timestamp": 1645088220320,
     "user": {
      "displayName": "Mohamed Hedi RIAHI",
      "photoUrl": "https://lh3.googleusercontent.com/a-/AOh14Ghj_MYP3RjnD9fFMH3mjFJ7I4P6WTVq1LTNJ3z3WnPbsboqaLYvId_qafvtxtmPaHAyPQ8cdV0ND_8GAmDgfkWI-NeGLVa4N74Y9jcZlfo2eXIvYMDLSWT00sNMwB89V4m6kVxL8scqy6TC33euqCVwipLPFwFoqcgIEOlymqfY6v61w68XwXONyqPi2xnClZTMGAbOBv2cdpuZ5WnBr1YOyo91NmHUZ3SEvXH-tgPW1LmuEBeqA0CsYarGgJzCIEG7snZp5yW3rUwp5soRV1u5WGIl0LSb3muklfKKTNKgWQiK35HtDOImmCuAW33eSplp3FVQGiEPD94AGs77d-M2UVE-E3ZNoPaVGufUEmdzO_FmdJd7S256hzLXFS6CfUARXy6rV4MaSIW8_KzcSy6KoIf-zctoCaXwHA7_xSVv6dF6vAfNo5IwwW8wVPcPyqgZC6L_A8KfKuhsD7WDuEv6GQ5hjGWAaUT4sbYQ5PWsF0gqnrql5kte1RV56Hmr5w0lIHRXXbXGkEwu7SI7njhGDVFI7So6DBVmRCnyXk50Wj8J7hmgPRt5d2_-0SnT7HedhPJXR_CK_w2ulyR7YkCDBS9-uumS5ZsUbVBb1YNkoULGdj6RIe78u-fSw7bSfAwaAgEiJSq3Y_erlv2zDo0-1w1F35YqfCswdEFk9HFHdcS3pBZj9P1Rae9XCELJytV6coYjk-eHZx50-99iS69m4LDaCrs_3u6Qcz5Fh_8fTcCGmSyoyZWxQlTJL2pl1-8F5g=s64",
      "userId": "14592477723528841934"
     },
     "user_tz": -60
    },
    "id": "tyzU0sWXraJH",
    "outputId": "39648cb5-781d-45f5-c444-27c9f9393275"
   },
   "outputs": [],
   "source": [
    "# division des donnees\n"
   ]
  },
  {
   "cell_type": "code",
   "execution_count": 2,
   "id": "263e8a7c",
   "metadata": {
    "colab": {
     "base_uri": "https://localhost:8080/"
    },
    "executionInfo": {
     "elapsed": 295,
     "status": "ok",
     "timestamp": 1645088280138,
     "user": {
      "displayName": "Mohamed Hedi RIAHI",
      "photoUrl": "https://lh3.googleusercontent.com/a-/AOh14Ghj_MYP3RjnD9fFMH3mjFJ7I4P6WTVq1LTNJ3z3WnPbsboqaLYvId_qafvtxtmPaHAyPQ8cdV0ND_8GAmDgfkWI-NeGLVa4N74Y9jcZlfo2eXIvYMDLSWT00sNMwB89V4m6kVxL8scqy6TC33euqCVwipLPFwFoqcgIEOlymqfY6v61w68XwXONyqPi2xnClZTMGAbOBv2cdpuZ5WnBr1YOyo91NmHUZ3SEvXH-tgPW1LmuEBeqA0CsYarGgJzCIEG7snZp5yW3rUwp5soRV1u5WGIl0LSb3muklfKKTNKgWQiK35HtDOImmCuAW33eSplp3FVQGiEPD94AGs77d-M2UVE-E3ZNoPaVGufUEmdzO_FmdJd7S256hzLXFS6CfUARXy6rV4MaSIW8_KzcSy6KoIf-zctoCaXwHA7_xSVv6dF6vAfNo5IwwW8wVPcPyqgZC6L_A8KfKuhsD7WDuEv6GQ5hjGWAaUT4sbYQ5PWsF0gqnrql5kte1RV56Hmr5w0lIHRXXbXGkEwu7SI7njhGDVFI7So6DBVmRCnyXk50Wj8J7hmgPRt5d2_-0SnT7HedhPJXR_CK_w2ulyR7YkCDBS9-uumS5ZsUbVBb1YNkoULGdj6RIe78u-fSw7bSfAwaAgEiJSq3Y_erlv2zDo0-1w1F35YqfCswdEFk9HFHdcS3pBZj9P1Rae9XCELJytV6coYjk-eHZx50-99iS69m4LDaCrs_3u6Qcz5Fh_8fTcCGmSyoyZWxQlTJL2pl1-8F5g=s64",
      "userId": "14592477723528841934"
     },
     "user_tz": -60
    },
    "id": "AfA_xLd0raJK",
    "outputId": "ef098512-1007-4448-92d2-0a0a84cf2df8"
   },
   "outputs": [],
   "source": [
    "# taille X_test,y_train.shape\n"
   ]
  },
  {
   "cell_type": "code",
   "execution_count": 3,
   "id": "fd6e907c",
   "metadata": {
    "colab": {
     "base_uri": "https://localhost:8080/"
    },
    "executionInfo": {
     "elapsed": 269,
     "status": "ok",
     "timestamp": 1645088772239,
     "user": {
      "displayName": "Mohamed Hedi RIAHI",
      "photoUrl": "https://lh3.googleusercontent.com/a-/AOh14Ghj_MYP3RjnD9fFMH3mjFJ7I4P6WTVq1LTNJ3z3WnPbsboqaLYvId_qafvtxtmPaHAyPQ8cdV0ND_8GAmDgfkWI-NeGLVa4N74Y9jcZlfo2eXIvYMDLSWT00sNMwB89V4m6kVxL8scqy6TC33euqCVwipLPFwFoqcgIEOlymqfY6v61w68XwXONyqPi2xnClZTMGAbOBv2cdpuZ5WnBr1YOyo91NmHUZ3SEvXH-tgPW1LmuEBeqA0CsYarGgJzCIEG7snZp5yW3rUwp5soRV1u5WGIl0LSb3muklfKKTNKgWQiK35HtDOImmCuAW33eSplp3FVQGiEPD94AGs77d-M2UVE-E3ZNoPaVGufUEmdzO_FmdJd7S256hzLXFS6CfUARXy6rV4MaSIW8_KzcSy6KoIf-zctoCaXwHA7_xSVv6dF6vAfNo5IwwW8wVPcPyqgZC6L_A8KfKuhsD7WDuEv6GQ5hjGWAaUT4sbYQ5PWsF0gqnrql5kte1RV56Hmr5w0lIHRXXbXGkEwu7SI7njhGDVFI7So6DBVmRCnyXk50Wj8J7hmgPRt5d2_-0SnT7HedhPJXR_CK_w2ulyR7YkCDBS9-uumS5ZsUbVBb1YNkoULGdj6RIe78u-fSw7bSfAwaAgEiJSq3Y_erlv2zDo0-1w1F35YqfCswdEFk9HFHdcS3pBZj9P1Rae9XCELJytV6coYjk-eHZx50-99iS69m4LDaCrs_3u6Qcz5Fh_8fTcCGmSyoyZWxQlTJL2pl1-8F5g=s64",
      "userId": "14592477723528841934"
     },
     "user_tz": -60
    },
    "id": "lASz3CZ3raJM",
    "outputId": "ca7060c4-69ab-4735-99d5-786d196b5d4c"
   },
   "outputs": [],
   "source": [
    "# y_train et y_test des tensor avec one_hot\n",
    "\n",
    "#1=(0,1,0,0,0,0,0,0,0,0) base (0,1,2,3,4,5,6,7,8,9)\n",
    "#5=(0,0,0,0,0,1,0,0,0,0)"
   ]
  },
  {
   "cell_type": "markdown",
   "id": "377009fb",
   "metadata": {
    "id": "zKhtJnX4raJP"
   },
   "source": [
    "Edit: la plupart du temps, batch_size souhaite augmenter le calcul pour accélérer le calcul, mais il existe d'autres moyens plus simples de le faire, comme utiliser des types de données d'une empreinte plus petite via l' dtypeargument, que ce soit en keras ou en tensorflow , par exemple à la float32place defloat64"
   ]
  },
  {
   "cell_type": "code",
   "execution_count": 4,
   "id": "2b6c206f",
   "metadata": {
    "executionInfo": {
     "elapsed": 260,
     "status": "ok",
     "timestamp": 1645089049604,
     "user": {
      "displayName": "Mohamed Hedi RIAHI",
      "photoUrl": "https://lh3.googleusercontent.com/a-/AOh14Ghj_MYP3RjnD9fFMH3mjFJ7I4P6WTVq1LTNJ3z3WnPbsboqaLYvId_qafvtxtmPaHAyPQ8cdV0ND_8GAmDgfkWI-NeGLVa4N74Y9jcZlfo2eXIvYMDLSWT00sNMwB89V4m6kVxL8scqy6TC33euqCVwipLPFwFoqcgIEOlymqfY6v61w68XwXONyqPi2xnClZTMGAbOBv2cdpuZ5WnBr1YOyo91NmHUZ3SEvXH-tgPW1LmuEBeqA0CsYarGgJzCIEG7snZp5yW3rUwp5soRV1u5WGIl0LSb3muklfKKTNKgWQiK35HtDOImmCuAW33eSplp3FVQGiEPD94AGs77d-M2UVE-E3ZNoPaVGufUEmdzO_FmdJd7S256hzLXFS6CfUARXy6rV4MaSIW8_KzcSy6KoIf-zctoCaXwHA7_xSVv6dF6vAfNo5IwwW8wVPcPyqgZC6L_A8KfKuhsD7WDuEv6GQ5hjGWAaUT4sbYQ5PWsF0gqnrql5kte1RV56Hmr5w0lIHRXXbXGkEwu7SI7njhGDVFI7So6DBVmRCnyXk50Wj8J7hmgPRt5d2_-0SnT7HedhPJXR_CK_w2ulyR7YkCDBS9-uumS5ZsUbVBb1YNkoULGdj6RIe78u-fSw7bSfAwaAgEiJSq3Y_erlv2zDo0-1w1F35YqfCswdEFk9HFHdcS3pBZj9P1Rae9XCELJytV6coYjk-eHZx50-99iS69m4LDaCrs_3u6Qcz5Fh_8fTcCGmSyoyZWxQlTJL2pl1-8F5g=s64",
      "userId": "14592477723528841934"
     },
     "user_tz": -60
    },
    "id": "IYYZL-O0raJT"
   },
   "outputs": [],
   "source": [
    "# changer le type  de X_train,y_train en float32\n"
   ]
  },
  {
   "cell_type": "code",
   "execution_count": 5,
   "id": "68449291",
   "metadata": {
    "colab": {
     "base_uri": "https://localhost:8080/"
    },
    "executionInfo": {
     "elapsed": 496,
     "status": "ok",
     "timestamp": 1645089077335,
     "user": {
      "displayName": "Mohamed Hedi RIAHI",
      "photoUrl": "https://lh3.googleusercontent.com/a-/AOh14Ghj_MYP3RjnD9fFMH3mjFJ7I4P6WTVq1LTNJ3z3WnPbsboqaLYvId_qafvtxtmPaHAyPQ8cdV0ND_8GAmDgfkWI-NeGLVa4N74Y9jcZlfo2eXIvYMDLSWT00sNMwB89V4m6kVxL8scqy6TC33euqCVwipLPFwFoqcgIEOlymqfY6v61w68XwXONyqPi2xnClZTMGAbOBv2cdpuZ5WnBr1YOyo91NmHUZ3SEvXH-tgPW1LmuEBeqA0CsYarGgJzCIEG7snZp5yW3rUwp5soRV1u5WGIl0LSb3muklfKKTNKgWQiK35HtDOImmCuAW33eSplp3FVQGiEPD94AGs77d-M2UVE-E3ZNoPaVGufUEmdzO_FmdJd7S256hzLXFS6CfUARXy6rV4MaSIW8_KzcSy6KoIf-zctoCaXwHA7_xSVv6dF6vAfNo5IwwW8wVPcPyqgZC6L_A8KfKuhsD7WDuEv6GQ5hjGWAaUT4sbYQ5PWsF0gqnrql5kte1RV56Hmr5w0lIHRXXbXGkEwu7SI7njhGDVFI7So6DBVmRCnyXk50Wj8J7hmgPRt5d2_-0SnT7HedhPJXR_CK_w2ulyR7YkCDBS9-uumS5ZsUbVBb1YNkoULGdj6RIe78u-fSw7bSfAwaAgEiJSq3Y_erlv2zDo0-1w1F35YqfCswdEFk9HFHdcS3pBZj9P1Rae9XCELJytV6coYjk-eHZx50-99iS69m4LDaCrs_3u6Qcz5Fh_8fTcCGmSyoyZWxQlTJL2pl1-8F5g=s64",
      "userId": "14592477723528841934"
     },
     "user_tz": -60
    },
    "id": "AWKcNIAPraJX",
    "outputId": "b743fc28-7757-4d77-eb93-680f0e89dab4"
   },
   "outputs": [],
   "source": [
    "# Afficher la taille des matrices images\n"
   ]
  },
  {
   "cell_type": "code",
   "execution_count": 6,
   "id": "6cc6549c",
   "metadata": {
    "executionInfo": {
     "elapsed": 309,
     "status": "ok",
     "timestamp": 1645089189522,
     "user": {
      "displayName": "Mohamed Hedi RIAHI",
      "photoUrl": "https://lh3.googleusercontent.com/a-/AOh14Ghj_MYP3RjnD9fFMH3mjFJ7I4P6WTVq1LTNJ3z3WnPbsboqaLYvId_qafvtxtmPaHAyPQ8cdV0ND_8GAmDgfkWI-NeGLVa4N74Y9jcZlfo2eXIvYMDLSWT00sNMwB89V4m6kVxL8scqy6TC33euqCVwipLPFwFoqcgIEOlymqfY6v61w68XwXONyqPi2xnClZTMGAbOBv2cdpuZ5WnBr1YOyo91NmHUZ3SEvXH-tgPW1LmuEBeqA0CsYarGgJzCIEG7snZp5yW3rUwp5soRV1u5WGIl0LSb3muklfKKTNKgWQiK35HtDOImmCuAW33eSplp3FVQGiEPD94AGs77d-M2UVE-E3ZNoPaVGufUEmdzO_FmdJd7S256hzLXFS6CfUARXy6rV4MaSIW8_KzcSy6KoIf-zctoCaXwHA7_xSVv6dF6vAfNo5IwwW8wVPcPyqgZC6L_A8KfKuhsD7WDuEv6GQ5hjGWAaUT4sbYQ5PWsF0gqnrql5kte1RV56Hmr5w0lIHRXXbXGkEwu7SI7njhGDVFI7So6DBVmRCnyXk50Wj8J7hmgPRt5d2_-0SnT7HedhPJXR_CK_w2ulyR7YkCDBS9-uumS5ZsUbVBb1YNkoULGdj6RIe78u-fSw7bSfAwaAgEiJSq3Y_erlv2zDo0-1w1F35YqfCswdEFk9HFHdcS3pBZj9P1Rae9XCELJytV6coYjk-eHZx50-99iS69m4LDaCrs_3u6Qcz5Fh_8fTcCGmSyoyZWxQlTJL2pl1-8F5g=s64",
      "userId": "14592477723528841934"
     },
     "user_tz": -60
    },
    "id": "ofxLbMQxraJZ"
   },
   "outputs": [],
   "source": [
    "# importer matplotlib\n"
   ]
  },
  {
   "cell_type": "code",
   "execution_count": 7,
   "id": "4e06f1f2",
   "metadata": {
    "colab": {
     "base_uri": "https://localhost:8080/"
    },
    "executionInfo": {
     "elapsed": 306,
     "status": "ok",
     "timestamp": 1645089259779,
     "user": {
      "displayName": "Mohamed Hedi RIAHI",
      "photoUrl": "https://lh3.googleusercontent.com/a-/AOh14Ghj_MYP3RjnD9fFMH3mjFJ7I4P6WTVq1LTNJ3z3WnPbsboqaLYvId_qafvtxtmPaHAyPQ8cdV0ND_8GAmDgfkWI-NeGLVa4N74Y9jcZlfo2eXIvYMDLSWT00sNMwB89V4m6kVxL8scqy6TC33euqCVwipLPFwFoqcgIEOlymqfY6v61w68XwXONyqPi2xnClZTMGAbOBv2cdpuZ5WnBr1YOyo91NmHUZ3SEvXH-tgPW1LmuEBeqA0CsYarGgJzCIEG7snZp5yW3rUwp5soRV1u5WGIl0LSb3muklfKKTNKgWQiK35HtDOImmCuAW33eSplp3FVQGiEPD94AGs77d-M2UVE-E3ZNoPaVGufUEmdzO_FmdJd7S256hzLXFS6CfUARXy6rV4MaSIW8_KzcSy6KoIf-zctoCaXwHA7_xSVv6dF6vAfNo5IwwW8wVPcPyqgZC6L_A8KfKuhsD7WDuEv6GQ5hjGWAaUT4sbYQ5PWsF0gqnrql5kte1RV56Hmr5w0lIHRXXbXGkEwu7SI7njhGDVFI7So6DBVmRCnyXk50Wj8J7hmgPRt5d2_-0SnT7HedhPJXR_CK_w2ulyR7YkCDBS9-uumS5ZsUbVBb1YNkoULGdj6RIe78u-fSw7bSfAwaAgEiJSq3Y_erlv2zDo0-1w1F35YqfCswdEFk9HFHdcS3pBZj9P1Rae9XCELJytV6coYjk-eHZx50-99iS69m4LDaCrs_3u6Qcz5Fh_8fTcCGmSyoyZWxQlTJL2pl1-8F5g=s64",
      "userId": "14592477723528841934"
     },
     "user_tz": -60
    },
    "id": "nEYXx1O6raJc",
    "outputId": "5669e1e5-df8a-4507-8c3f-af9ea166281d"
   },
   "outputs": [],
   "source": [
    "# Afficher une image\n"
   ]
  },
  {
   "cell_type": "code",
   "execution_count": 8,
   "id": "69ee8019",
   "metadata": {
    "colab": {
     "base_uri": "https://localhost:8080/",
     "height": 283
    },
    "executionInfo": {
     "elapsed": 359,
     "status": "ok",
     "timestamp": 1645089304225,
     "user": {
      "displayName": "Mohamed Hedi RIAHI",
      "photoUrl": "https://lh3.googleusercontent.com/a-/AOh14Ghj_MYP3RjnD9fFMH3mjFJ7I4P6WTVq1LTNJ3z3WnPbsboqaLYvId_qafvtxtmPaHAyPQ8cdV0ND_8GAmDgfkWI-NeGLVa4N74Y9jcZlfo2eXIvYMDLSWT00sNMwB89V4m6kVxL8scqy6TC33euqCVwipLPFwFoqcgIEOlymqfY6v61w68XwXONyqPi2xnClZTMGAbOBv2cdpuZ5WnBr1YOyo91NmHUZ3SEvXH-tgPW1LmuEBeqA0CsYarGgJzCIEG7snZp5yW3rUwp5soRV1u5WGIl0LSb3muklfKKTNKgWQiK35HtDOImmCuAW33eSplp3FVQGiEPD94AGs77d-M2UVE-E3ZNoPaVGufUEmdzO_FmdJd7S256hzLXFS6CfUARXy6rV4MaSIW8_KzcSy6KoIf-zctoCaXwHA7_xSVv6dF6vAfNo5IwwW8wVPcPyqgZC6L_A8KfKuhsD7WDuEv6GQ5hjGWAaUT4sbYQ5PWsF0gqnrql5kte1RV56Hmr5w0lIHRXXbXGkEwu7SI7njhGDVFI7So6DBVmRCnyXk50Wj8J7hmgPRt5d2_-0SnT7HedhPJXR_CK_w2ulyR7YkCDBS9-uumS5ZsUbVBb1YNkoULGdj6RIe78u-fSw7bSfAwaAgEiJSq3Y_erlv2zDo0-1w1F35YqfCswdEFk9HFHdcS3pBZj9P1Rae9XCELJytV6coYjk-eHZx50-99iS69m4LDaCrs_3u6Qcz5Fh_8fTcCGmSyoyZWxQlTJL2pl1-8F5g=s64",
      "userId": "14592477723528841934"
     },
     "user_tz": -60
    },
    "id": "b_tvqGuiraJg",
    "outputId": "f2d428b0-6f3e-4383-e0fd-818061dd513b"
   },
   "outputs": [],
   "source": [
    "# plot image\n"
   ]
  },
  {
   "cell_type": "code",
   "execution_count": 18,
   "id": "923d1767",
   "metadata": {
    "executionInfo": {
     "elapsed": 269,
     "status": "ok",
     "timestamp": 1645090375563,
     "user": {
      "displayName": "Mohamed Hedi RIAHI",
      "photoUrl": "https://lh3.googleusercontent.com/a-/AOh14Ghj_MYP3RjnD9fFMH3mjFJ7I4P6WTVq1LTNJ3z3WnPbsboqaLYvId_qafvtxtmPaHAyPQ8cdV0ND_8GAmDgfkWI-NeGLVa4N74Y9jcZlfo2eXIvYMDLSWT00sNMwB89V4m6kVxL8scqy6TC33euqCVwipLPFwFoqcgIEOlymqfY6v61w68XwXONyqPi2xnClZTMGAbOBv2cdpuZ5WnBr1YOyo91NmHUZ3SEvXH-tgPW1LmuEBeqA0CsYarGgJzCIEG7snZp5yW3rUwp5soRV1u5WGIl0LSb3muklfKKTNKgWQiK35HtDOImmCuAW33eSplp3FVQGiEPD94AGs77d-M2UVE-E3ZNoPaVGufUEmdzO_FmdJd7S256hzLXFS6CfUARXy6rV4MaSIW8_KzcSy6KoIf-zctoCaXwHA7_xSVv6dF6vAfNo5IwwW8wVPcPyqgZC6L_A8KfKuhsD7WDuEv6GQ5hjGWAaUT4sbYQ5PWsF0gqnrql5kte1RV56Hmr5w0lIHRXXbXGkEwu7SI7njhGDVFI7So6DBVmRCnyXk50Wj8J7hmgPRt5d2_-0SnT7HedhPJXR_CK_w2ulyR7YkCDBS9-uumS5ZsUbVBb1YNkoULGdj6RIe78u-fSw7bSfAwaAgEiJSq3Y_erlv2zDo0-1w1F35YqfCswdEFk9HFHdcS3pBZj9P1Rae9XCELJytV6coYjk-eHZx50-99iS69m4LDaCrs_3u6Qcz5Fh_8fTcCGmSyoyZWxQlTJL2pl1-8F5g=s64",
      "userId": "14592477723528841934"
     },
     "user_tz": -60
    },
    "id": "fHtpIaQCraJi"
   },
   "outputs": [],
   "source": [
    "# importer conv2D, MaxPool2D, Adam, Dense, Flatten, Input de tensorflow.keras.layers\n",
    "\n",
    "\n"
   ]
  },
  {
   "cell_type": "code",
   "execution_count": 19,
   "id": "5f0af431",
   "metadata": {
    "executionInfo": {
     "elapsed": 290,
     "status": "ok",
     "timestamp": 1645090380959,
     "user": {
      "displayName": "Mohamed Hedi RIAHI",
      "photoUrl": "https://lh3.googleusercontent.com/a-/AOh14Ghj_MYP3RjnD9fFMH3mjFJ7I4P6WTVq1LTNJ3z3WnPbsboqaLYvId_qafvtxtmPaHAyPQ8cdV0ND_8GAmDgfkWI-NeGLVa4N74Y9jcZlfo2eXIvYMDLSWT00sNMwB89V4m6kVxL8scqy6TC33euqCVwipLPFwFoqcgIEOlymqfY6v61w68XwXONyqPi2xnClZTMGAbOBv2cdpuZ5WnBr1YOyo91NmHUZ3SEvXH-tgPW1LmuEBeqA0CsYarGgJzCIEG7snZp5yW3rUwp5soRV1u5WGIl0LSb3muklfKKTNKgWQiK35HtDOImmCuAW33eSplp3FVQGiEPD94AGs77d-M2UVE-E3ZNoPaVGufUEmdzO_FmdJd7S256hzLXFS6CfUARXy6rV4MaSIW8_KzcSy6KoIf-zctoCaXwHA7_xSVv6dF6vAfNo5IwwW8wVPcPyqgZC6L_A8KfKuhsD7WDuEv6GQ5hjGWAaUT4sbYQ5PWsF0gqnrql5kte1RV56Hmr5w0lIHRXXbXGkEwu7SI7njhGDVFI7So6DBVmRCnyXk50Wj8J7hmgPRt5d2_-0SnT7HedhPJXR_CK_w2ulyR7YkCDBS9-uumS5ZsUbVBb1YNkoULGdj6RIe78u-fSw7bSfAwaAgEiJSq3Y_erlv2zDo0-1w1F35YqfCswdEFk9HFHdcS3pBZj9P1Rae9XCELJytV6coYjk-eHZx50-99iS69m4LDaCrs_3u6Qcz5Fh_8fTcCGmSyoyZWxQlTJL2pl1-8F5g=s64",
      "userId": "14592477723528841934"
     },
     "user_tz": -60
    },
    "id": "nm1efUpzraJl"
   },
   "outputs": [],
   "source": [
    "# Preparation de model input et output\n",
    "#model_input = tf.keras.Input(shape=(28,28,1))\n",
    "#x = Conv2D(10, (3,3), activation='relu')(model_input)\n",
    "#x = MaxPool2D(pool_size=(2,2), strides=2)(x)\n",
    "#x = Conv2D(100, (4,4), activation='relu')(x)\n",
    "#x = MaxPool2D(pool_size= (2,2), strides=2)(x)\n",
    "#x = Flatten()(x)\n",
    "#x = Dense(100, activation='relu')(x)\n",
    "#x = Dense(50, activation='relu')(x)\n",
    "#output = Dense(10, activation='softmax')(x)"
   ]
  },
  {
   "cell_type": "code",
   "execution_count": 20,
   "id": "97be0854",
   "metadata": {
    "executionInfo": {
     "elapsed": 5,
     "status": "ok",
     "timestamp": 1645090383621,
     "user": {
      "displayName": "Mohamed Hedi RIAHI",
      "photoUrl": "https://lh3.googleusercontent.com/a-/AOh14Ghj_MYP3RjnD9fFMH3mjFJ7I4P6WTVq1LTNJ3z3WnPbsboqaLYvId_qafvtxtmPaHAyPQ8cdV0ND_8GAmDgfkWI-NeGLVa4N74Y9jcZlfo2eXIvYMDLSWT00sNMwB89V4m6kVxL8scqy6TC33euqCVwipLPFwFoqcgIEOlymqfY6v61w68XwXONyqPi2xnClZTMGAbOBv2cdpuZ5WnBr1YOyo91NmHUZ3SEvXH-tgPW1LmuEBeqA0CsYarGgJzCIEG7snZp5yW3rUwp5soRV1u5WGIl0LSb3muklfKKTNKgWQiK35HtDOImmCuAW33eSplp3FVQGiEPD94AGs77d-M2UVE-E3ZNoPaVGufUEmdzO_FmdJd7S256hzLXFS6CfUARXy6rV4MaSIW8_KzcSy6KoIf-zctoCaXwHA7_xSVv6dF6vAfNo5IwwW8wVPcPyqgZC6L_A8KfKuhsD7WDuEv6GQ5hjGWAaUT4sbYQ5PWsF0gqnrql5kte1RV56Hmr5w0lIHRXXbXGkEwu7SI7njhGDVFI7So6DBVmRCnyXk50Wj8J7hmgPRt5d2_-0SnT7HedhPJXR_CK_w2ulyR7YkCDBS9-uumS5ZsUbVBb1YNkoULGdj6RIe78u-fSw7bSfAwaAgEiJSq3Y_erlv2zDo0-1w1F35YqfCswdEFk9HFHdcS3pBZj9P1Rae9XCELJytV6coYjk-eHZx50-99iS69m4LDaCrs_3u6Qcz5Fh_8fTcCGmSyoyZWxQlTJL2pl1-8F5g=s64",
      "userId": "14592477723528841934"
     },
     "user_tz": -60
    },
    "id": "1DCjlwNoraJo"
   },
   "outputs": [],
   "source": [
    "# model\n",
    "\n"
   ]
  },
  {
   "cell_type": "code",
   "execution_count": 9,
   "id": "b3ff4f52",
   "metadata": {
    "colab": {
     "base_uri": "https://localhost:8080/"
    },
    "executionInfo": {
     "elapsed": 298,
     "status": "ok",
     "timestamp": 1645090410228,
     "user": {
      "displayName": "Mohamed Hedi RIAHI",
      "photoUrl": "https://lh3.googleusercontent.com/a-/AOh14Ghj_MYP3RjnD9fFMH3mjFJ7I4P6WTVq1LTNJ3z3WnPbsboqaLYvId_qafvtxtmPaHAyPQ8cdV0ND_8GAmDgfkWI-NeGLVa4N74Y9jcZlfo2eXIvYMDLSWT00sNMwB89V4m6kVxL8scqy6TC33euqCVwipLPFwFoqcgIEOlymqfY6v61w68XwXONyqPi2xnClZTMGAbOBv2cdpuZ5WnBr1YOyo91NmHUZ3SEvXH-tgPW1LmuEBeqA0CsYarGgJzCIEG7snZp5yW3rUwp5soRV1u5WGIl0LSb3muklfKKTNKgWQiK35HtDOImmCuAW33eSplp3FVQGiEPD94AGs77d-M2UVE-E3ZNoPaVGufUEmdzO_FmdJd7S256hzLXFS6CfUARXy6rV4MaSIW8_KzcSy6KoIf-zctoCaXwHA7_xSVv6dF6vAfNo5IwwW8wVPcPyqgZC6L_A8KfKuhsD7WDuEv6GQ5hjGWAaUT4sbYQ5PWsF0gqnrql5kte1RV56Hmr5w0lIHRXXbXGkEwu7SI7njhGDVFI7So6DBVmRCnyXk50Wj8J7hmgPRt5d2_-0SnT7HedhPJXR_CK_w2ulyR7YkCDBS9-uumS5ZsUbVBb1YNkoULGdj6RIe78u-fSw7bSfAwaAgEiJSq3Y_erlv2zDo0-1w1F35YqfCswdEFk9HFHdcS3pBZj9P1Rae9XCELJytV6coYjk-eHZx50-99iS69m4LDaCrs_3u6Qcz5Fh_8fTcCGmSyoyZWxQlTJL2pl1-8F5g=s64",
      "userId": "14592477723528841934"
     },
     "user_tz": -60
    },
    "id": "uwLeVNJMraJq",
    "outputId": "bfe7e071-40ff-4376-ffb6-d5672325668e"
   },
   "outputs": [],
   "source": [
    "#model summary\n",
    "\n"
   ]
  },
  {
   "cell_type": "code",
   "execution_count": 10,
   "id": "3d348b85",
   "metadata": {
    "executionInfo": {
     "elapsed": 294,
     "status": "ok",
     "timestamp": 1645090474542,
     "user": {
      "displayName": "Mohamed Hedi RIAHI",
      "photoUrl": "https://lh3.googleusercontent.com/a-/AOh14Ghj_MYP3RjnD9fFMH3mjFJ7I4P6WTVq1LTNJ3z3WnPbsboqaLYvId_qafvtxtmPaHAyPQ8cdV0ND_8GAmDgfkWI-NeGLVa4N74Y9jcZlfo2eXIvYMDLSWT00sNMwB89V4m6kVxL8scqy6TC33euqCVwipLPFwFoqcgIEOlymqfY6v61w68XwXONyqPi2xnClZTMGAbOBv2cdpuZ5WnBr1YOyo91NmHUZ3SEvXH-tgPW1LmuEBeqA0CsYarGgJzCIEG7snZp5yW3rUwp5soRV1u5WGIl0LSb3muklfKKTNKgWQiK35HtDOImmCuAW33eSplp3FVQGiEPD94AGs77d-M2UVE-E3ZNoPaVGufUEmdzO_FmdJd7S256hzLXFS6CfUARXy6rV4MaSIW8_KzcSy6KoIf-zctoCaXwHA7_xSVv6dF6vAfNo5IwwW8wVPcPyqgZC6L_A8KfKuhsD7WDuEv6GQ5hjGWAaUT4sbYQ5PWsF0gqnrql5kte1RV56Hmr5w0lIHRXXbXGkEwu7SI7njhGDVFI7So6DBVmRCnyXk50Wj8J7hmgPRt5d2_-0SnT7HedhPJXR_CK_w2ulyR7YkCDBS9-uumS5ZsUbVBb1YNkoULGdj6RIe78u-fSw7bSfAwaAgEiJSq3Y_erlv2zDo0-1w1F35YqfCswdEFk9HFHdcS3pBZj9P1Rae9XCELJytV6coYjk-eHZx50-99iS69m4LDaCrs_3u6Qcz5Fh_8fTcCGmSyoyZWxQlTJL2pl1-8F5g=s64",
      "userId": "14592477723528841934"
     },
     "user_tz": -60
    },
    "id": "VxeDbRULraJs"
   },
   "outputs": [],
   "source": [
    "# compilation de model\n",
    "#model.compile(loss='categorical_crossentropy', optimizer=Adam(learning_rate=0.0001), metrics=['accuracy'])"
   ]
  },
  {
   "cell_type": "code",
   "execution_count": 11,
   "id": "65913e21",
   "metadata": {
    "colab": {
     "base_uri": "https://localhost:8080/"
    },
    "executionInfo": {
     "elapsed": 303448,
     "status": "ok",
     "timestamp": 1645090799653,
     "user": {
      "displayName": "Mohamed Hedi RIAHI",
      "photoUrl": "https://lh3.googleusercontent.com/a-/AOh14Ghj_MYP3RjnD9fFMH3mjFJ7I4P6WTVq1LTNJ3z3WnPbsboqaLYvId_qafvtxtmPaHAyPQ8cdV0ND_8GAmDgfkWI-NeGLVa4N74Y9jcZlfo2eXIvYMDLSWT00sNMwB89V4m6kVxL8scqy6TC33euqCVwipLPFwFoqcgIEOlymqfY6v61w68XwXONyqPi2xnClZTMGAbOBv2cdpuZ5WnBr1YOyo91NmHUZ3SEvXH-tgPW1LmuEBeqA0CsYarGgJzCIEG7snZp5yW3rUwp5soRV1u5WGIl0LSb3muklfKKTNKgWQiK35HtDOImmCuAW33eSplp3FVQGiEPD94AGs77d-M2UVE-E3ZNoPaVGufUEmdzO_FmdJd7S256hzLXFS6CfUARXy6rV4MaSIW8_KzcSy6KoIf-zctoCaXwHA7_xSVv6dF6vAfNo5IwwW8wVPcPyqgZC6L_A8KfKuhsD7WDuEv6GQ5hjGWAaUT4sbYQ5PWsF0gqnrql5kte1RV56Hmr5w0lIHRXXbXGkEwu7SI7njhGDVFI7So6DBVmRCnyXk50Wj8J7hmgPRt5d2_-0SnT7HedhPJXR_CK_w2ulyR7YkCDBS9-uumS5ZsUbVBb1YNkoULGdj6RIe78u-fSw7bSfAwaAgEiJSq3Y_erlv2zDo0-1w1F35YqfCswdEFk9HFHdcS3pBZj9P1Rae9XCELJytV6coYjk-eHZx50-99iS69m4LDaCrs_3u6Qcz5Fh_8fTcCGmSyoyZWxQlTJL2pl1-8F5g=s64",
      "userId": "14592477723528841934"
     },
     "user_tz": -60
    },
    "id": "X_SuGvqpraJt",
    "outputId": "9a05b159-45cd-419f-b67f-fb9486022851"
   },
   "outputs": [],
   "source": [
    "# fit model\n",
    "#model.fit(X_train, y_train, epochs=5, batch_size=10, verbose=1)"
   ]
  },
  {
   "cell_type": "code",
   "execution_count": 25,
   "id": "30cc1ac4",
   "metadata": {
    "colab": {
     "base_uri": "https://localhost:8080/"
    },
    "executionInfo": {
     "elapsed": 2846,
     "status": "ok",
     "timestamp": 1645090823817,
     "user": {
      "displayName": "Mohamed Hedi RIAHI",
      "photoUrl": "https://lh3.googleusercontent.com/a-/AOh14Ghj_MYP3RjnD9fFMH3mjFJ7I4P6WTVq1LTNJ3z3WnPbsboqaLYvId_qafvtxtmPaHAyPQ8cdV0ND_8GAmDgfkWI-NeGLVa4N74Y9jcZlfo2eXIvYMDLSWT00sNMwB89V4m6kVxL8scqy6TC33euqCVwipLPFwFoqcgIEOlymqfY6v61w68XwXONyqPi2xnClZTMGAbOBv2cdpuZ5WnBr1YOyo91NmHUZ3SEvXH-tgPW1LmuEBeqA0CsYarGgJzCIEG7snZp5yW3rUwp5soRV1u5WGIl0LSb3muklfKKTNKgWQiK35HtDOImmCuAW33eSplp3FVQGiEPD94AGs77d-M2UVE-E3ZNoPaVGufUEmdzO_FmdJd7S256hzLXFS6CfUARXy6rV4MaSIW8_KzcSy6KoIf-zctoCaXwHA7_xSVv6dF6vAfNo5IwwW8wVPcPyqgZC6L_A8KfKuhsD7WDuEv6GQ5hjGWAaUT4sbYQ5PWsF0gqnrql5kte1RV56Hmr5w0lIHRXXbXGkEwu7SI7njhGDVFI7So6DBVmRCnyXk50Wj8J7hmgPRt5d2_-0SnT7HedhPJXR_CK_w2ulyR7YkCDBS9-uumS5ZsUbVBb1YNkoULGdj6RIe78u-fSw7bSfAwaAgEiJSq3Y_erlv2zDo0-1w1F35YqfCswdEFk9HFHdcS3pBZj9P1Rae9XCELJytV6coYjk-eHZx50-99iS69m4LDaCrs_3u6Qcz5Fh_8fTcCGmSyoyZWxQlTJL2pl1-8F5g=s64",
      "userId": "14592477723528841934"
     },
     "user_tz": -60
    },
    "id": "5z23oLGdraJu",
    "outputId": "f1d67fd4-bce4-464e-84f8-c920745ed69b"
   },
   "outputs": [
    {
     "name": "stdout",
     "output_type": "stream",
     "text": [
      "313/313 [==============================] - 3s 8ms/step - loss: 0.0406 - accuracy: 0.9873\n",
      "test loss = 0.04064109921455383\n",
      "test Accuracy =  0.9872999787330627\n"
     ]
    }
   ],
   "source": [
    "# evaluation de model\n",
    "#loss_and_metrics = model.evaluate(X_test, y_test, verbose = 1)\n",
    "#print('test loss =', loss_and_metrics[0])\n",
    "#print('test Accuracy = ', loss_and_metrics[1])"
   ]
  },
  {
   "cell_type": "code",
   "execution_count": null,
   "id": "afc04474",
   "metadata": {
    "id": "j1orADxHraJw"
   },
   "outputs": [],
   "source": []
  },
  {
   "cell_type": "code",
   "execution_count": null,
   "id": "91e8c109",
   "metadata": {
    "id": "dvT_P8DcraJx"
   },
   "outputs": [],
   "source": []
  },
  {
   "cell_type": "code",
   "execution_count": null,
   "id": "59fc6003",
   "metadata": {
    "id": "8Po4FucUraJ7"
   },
   "outputs": [],
   "source": []
  },
  {
   "cell_type": "code",
   "execution_count": null,
   "id": "cefa0095",
   "metadata": {
    "id": "xopgQw1TraJ7"
   },
   "outputs": [],
   "source": []
  },
  {
   "cell_type": "code",
   "execution_count": null,
   "id": "d77ca7b1",
   "metadata": {
    "id": "UvOAsYa3raJ_"
   },
   "outputs": [],
   "source": []
  }
 ],
 "metadata": {
  "colab": {
   "collapsed_sections": [],
   "name": "MNIST_4DS_4.ipynb",
   "provenance": []
  },
  "kernelspec": {
   "display_name": "Python 3 (ipykernel)",
   "language": "python",
   "name": "python3"
  },
  "language_info": {
   "codemirror_mode": {
    "name": "ipython",
    "version": 3
   },
   "file_extension": ".py",
   "mimetype": "text/x-python",
   "name": "python",
   "nbconvert_exporter": "python",
   "pygments_lexer": "ipython3",
   "version": "3.10.9"
  }
 },
 "nbformat": 4,
 "nbformat_minor": 5
}
